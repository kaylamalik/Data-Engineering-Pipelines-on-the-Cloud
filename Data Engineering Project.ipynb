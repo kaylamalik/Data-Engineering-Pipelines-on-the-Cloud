{
 "cells": [
  {
   "cell_type": "code",
   "execution_count": 12,
   "metadata": {},
   "outputs": [],
   "source": [
    "# import api keys\n",
    "from api_keys import *\n",
    "from IPython.display import JSON\n",
    "from bs4 import BeautifulSoup\n",
    "import pandas as pd\n",
    "import requests\n",
    "import datetime\n",
    "from bs4 import BeautifulSoup as bs"
   ]
  },
  {
   "cell_type": "markdown",
   "metadata": {},
   "source": [
    "**City Web Scraping**"
   ]
  },
  {
   "cell_type": "code",
   "execution_count": 13,
   "metadata": {},
   "outputs": [
    {
     "name": "stdout",
     "output_type": "stream",
     "text": [
      "3\n"
     ]
    }
   ],
   "source": [
    "url = ('https://en.wikipedia.org/wiki/List_of_cities_in_the_United_Kingdom')\n",
    "tables = pd.read_html(url, attrs={'class': 'wikitable sortable'})\n",
    "type(tables)\n",
    "#printing number of tables on wiki page\n",
    "print(len(tables))"
   ]
  },
  {
   "cell_type": "code",
   "execution_count": 35,
   "metadata": {},
   "outputs": [],
   "source": [
    "# selecting first table on page, as that is the one being referenced\n",
    "cities= tables[0]\n",
    "#dropping unnecessary columns\n",
    "cities= cities.drop(cities.columns[[1,2,3,5]], axis=1)\n",
    "#renaming columns\n",
    "cities.rename(columns={'City[3][1]':'City', 'Nation/region':'Country'}, inplace=True)"
   ]
  },
  {
   "cell_type": "code",
   "execution_count": 15,
   "metadata": {},
   "outputs": [],
   "source": [
    "#cleaning City column\n",
    "import re\n",
    "cities['City']= cities['City'].str.replace(r\"\\(.*|\\d.*|\\,.*|City of \", \"\", regex=True)"
   ]
  },
  {
   "cell_type": "code",
   "execution_count": 16,
   "metadata": {},
   "outputs": [],
   "source": [
    "#cleaning Country column\n",
    "\n",
    "cities['Country']=cities['Country'].str.replace(r\".*\\, \", '', regex=True)"
   ]
  },
  {
   "cell_type": "code",
   "execution_count": 17,
   "metadata": {},
   "outputs": [],
   "source": [
    "#adding iso column and City_Country column\n",
    "\n",
    "cities['ISO'] = pd.Series([\"GB\" for x in range(len(cities.index))])\n",
    "cities['City_Country']= cities['City'] + ', ' + cities['ISO']"
   ]
  },
  {
   "cell_type": "code",
   "execution_count": 34,
   "metadata": {},
   "outputs": [],
   "source": [
    "#cleaning Population column\n",
    "\n",
    "cities['Population']=cities['Population'].str.replace(r\"\\,| .*|\\[.*\", '', regex=True)"
   ]
  },
  {
   "cell_type": "markdown",
   "metadata": {},
   "source": [
    "Merging *cities* with *airports*"
   ]
  },
  {
   "cell_type": "code",
   "execution_count": 20,
   "metadata": {},
   "outputs": [],
   "source": [
    "airports= (\n",
    "pd.read_csv('airports.csv')\n",
    "    .query('type == \"large_airport\"')\n",
    "    .filter(['name','latitude_deg','longitude_deg','iso_country','iso_region','municipality','gps_code','iata_code'])\n",
    "    .rename(columns={'gps_code':'icao_code'})\n",
    "    .assign(City_Country = lambda x: x['municipality'] + ', ' + x['iso_country'])\n",
    ")"
   ]
  },
  {
   "cell_type": "code",
   "execution_count": 21,
   "metadata": {},
   "outputs": [],
   "source": [
    "cities_airports= cities.merge(airports, how='inner').drop(['ISO', 'latitude_deg', 'longitude_deg', 'iso_country', 'iso_region', 'municipality', 'iata_code', 'Population', 'City', 'Country'], axis=1)\n"
   ]
  },
  {
   "cell_type": "code",
   "execution_count": 22,
   "metadata": {},
   "outputs": [],
   "source": [
    "cities_airports.rename(columns={'name':'Airport', 'icao_code':'ICAO'}, inplace=True)"
   ]
  },
  {
   "cell_type": "markdown",
   "metadata": {},
   "source": [
    "**Weather Forcast Data**"
   ]
  },
  {
   "cell_type": "code",
   "execution_count": 24,
   "metadata": {},
   "outputs": [],
   "source": [
    "city = \"London\"\n",
    "country = \"GB\"\n",
    "\n",
    "response = requests.get(f'http://api.openweathermap.org/data/2.5/forecast/?q={city},{country}&appid={OWM_key}&units=metric&lang=en')\n",
    "\n",
    "from IPython.display import JSON\n",
    "#JSON(response.json())"
   ]
  },
  {
   "cell_type": "code",
   "execution_count": null,
   "metadata": {},
   "outputs": [],
   "source": [
    "forecast_api = response.json()['list']\n",
    "\n",
    "weather_info = []\n",
    "\n",
    "for forecast_3h in forecast_api: \n",
    "    weather_hour = {}\n",
    "    # datetime utc\n",
    "    weather_hour['Date_Time'] = forecast_3h['dt_txt']\n",
    "    # temperature \n",
    "    weather_hour['Temperature'] = forecast_3h['main']['temp']\n",
    "    # wind\n",
    "    weather_hour['Wind'] = forecast_3h['wind']['speed']\n",
    "    # probability precipitation \n",
    "    try: weather_hour['Prob_Percipitation'] = float(forecast_3h['pop'])\n",
    "    except: weather_hour['Prob_Percipitation'] = 0\n",
    "    # rain\n",
    "    try: weather_hour['Rain'] = float(forecast_3h['rain']['3h'])\n",
    "    except: weather_hour['Rain'] = 0\n",
    "    # wind \n",
    "    try: weather_hour['Snow'] = float(forecast_3h['snow']['3h'])\n",
    "    except: weather_hour['Snow'] = 0\n",
    "    weather_hour['City_Country'] = city + ', ' + country\n",
    "    weather_info.append(weather_hour)\n",
    "    \n",
    "weather = pd.DataFrame(weather_info)"
   ]
  },
  {
   "cell_type": "markdown",
   "metadata": {},
   "source": [
    "**Flight Arrival Data**"
   ]
  },
  {
   "cell_type": "code",
   "execution_count": 26,
   "metadata": {},
   "outputs": [],
   "source": [
    "from datetime import datetime, timedelta\n",
    "\n",
    "airport_icoa = \"EGLL\"\n",
    "to_local_time = datetime.now().strftime('%Y-%m-%dT%H:00')\n",
    "from_local_time = (datetime.now() + timedelta(hours=9)).strftime('%Y-%m-%dT%H:00')\n",
    "url = f\"https://aerodatabox.p.rapidapi.com/flights/airports/icao/{airport_icoa}/{to_local_time}/{from_local_time}\"\n",
    "\n",
    "\n",
    "import requests\n",
    "\n",
    "querystring = {\"withLeg\":\"true\",\"withCancelled\":\"true\",\"withCodeshared\":\"true\",\"withCargo\":\"true\",\"withPrivate\":\"false\",\"withLocation\":\"false\"}\n",
    "\n",
    "headers = {\n",
    "    'x-rapidapi-host': \"aerodatabox.p.rapidapi.com\",\n",
    "    'x-rapidapi-key': flight_api_key\n",
    "    }\n",
    "\n",
    "response = requests.request(\"GET\", url, headers=headers, params=querystring)\n",
    "\n",
    "from IPython.display import JSON\n",
    "#response.json()"
   ]
  },
  {
   "cell_type": "code",
   "execution_count": 27,
   "metadata": {},
   "outputs": [],
   "source": [
    "import pandas as pd\n",
    "arrivals = pd.json_normalize(response.json()['arrivals'])\n",
    "\n",
    "arrivals = (arrivals\n",
    "    .filter(['departure.airport.name','arrival.scheduledTimeLocal','arrival.terminal', 'status', 'number'])\n",
    "    .assign(ICAO = airport_icoa)\n",
    "    \n",
    ")\n",
    "arrivals.rename(columns={'departure.airport.name':'Departure_City', 'arrival.scheduledTimeLocal': 'Arrival_Time', 'arrival.terminal': 'Terminal', 'status': 'Status', 'number': 'Flight'}, inplace=True)"
   ]
  },
  {
   "cell_type": "markdown",
   "metadata": {},
   "source": [
    "**Check tables**"
   ]
  },
  {
   "cell_type": "code",
   "execution_count": 28,
   "metadata": {},
   "outputs": [
    {
     "data": {
      "text/html": [
       "<div>\n",
       "<style scoped>\n",
       "    .dataframe tbody tr th:only-of-type {\n",
       "        vertical-align: middle;\n",
       "    }\n",
       "\n",
       "    .dataframe tbody tr th {\n",
       "        vertical-align: top;\n",
       "    }\n",
       "\n",
       "    .dataframe thead th {\n",
       "        text-align: right;\n",
       "    }\n",
       "</style>\n",
       "<table border=\"1\" class=\"dataframe\">\n",
       "  <thead>\n",
       "    <tr style=\"text-align: right;\">\n",
       "      <th></th>\n",
       "      <th>City</th>\n",
       "      <th>Country</th>\n",
       "      <th>Population</th>\n",
       "      <th>ISO</th>\n",
       "      <th>City_Country</th>\n",
       "    </tr>\n",
       "  </thead>\n",
       "  <tbody>\n",
       "    <tr>\n",
       "      <th>0</th>\n",
       "      <td>Aberdeen</td>\n",
       "      <td>Scotland</td>\n",
       "      <td>22279338</td>\n",
       "      <td>GB</td>\n",
       "      <td>Aberdeen, GB</td>\n",
       "    </tr>\n",
       "    <tr>\n",
       "      <th>1</th>\n",
       "      <td>Armagh</td>\n",
       "      <td>Northern Ireland</td>\n",
       "      <td>14777</td>\n",
       "      <td>GB</td>\n",
       "      <td>Armagh, GB</td>\n",
       "    </tr>\n",
       "    <tr>\n",
       "      <th>2</th>\n",
       "      <td>Bangor</td>\n",
       "      <td>Wales</td>\n",
       "      <td>18808</td>\n",
       "      <td>GB</td>\n",
       "      <td>Bangor, GB</td>\n",
       "    </tr>\n",
       "    <tr>\n",
       "      <th>3</th>\n",
       "      <td>Bath</td>\n",
       "      <td>England</td>\n",
       "      <td>88859</td>\n",
       "      <td>GB</td>\n",
       "      <td>Bath, GB</td>\n",
       "    </tr>\n",
       "    <tr>\n",
       "      <th>4</th>\n",
       "      <td>Belfast</td>\n",
       "      <td>Northern Ireland</td>\n",
       "      <td>333871</td>\n",
       "      <td>GB</td>\n",
       "      <td>Belfast, GB</td>\n",
       "    </tr>\n",
       "  </tbody>\n",
       "</table>\n",
       "</div>"
      ],
      "text/plain": [
       "       City           Country Population ISO  City_Country\n",
       "0  Aberdeen          Scotland   22279338  GB  Aberdeen, GB\n",
       "1    Armagh  Northern Ireland      14777  GB    Armagh, GB\n",
       "2    Bangor             Wales      18808  GB    Bangor, GB\n",
       "3      Bath           England      88859  GB      Bath, GB\n",
       "4   Belfast  Northern Ireland     333871  GB   Belfast, GB"
      ]
     },
     "execution_count": 28,
     "metadata": {},
     "output_type": "execute_result"
    }
   ],
   "source": [
    "cities.head()"
   ]
  },
  {
   "cell_type": "code",
   "execution_count": 29,
   "metadata": {},
   "outputs": [
    {
     "data": {
      "text/html": [
       "<div>\n",
       "<style scoped>\n",
       "    .dataframe tbody tr th:only-of-type {\n",
       "        vertical-align: middle;\n",
       "    }\n",
       "\n",
       "    .dataframe tbody tr th {\n",
       "        vertical-align: top;\n",
       "    }\n",
       "\n",
       "    .dataframe thead th {\n",
       "        text-align: right;\n",
       "    }\n",
       "</style>\n",
       "<table border=\"1\" class=\"dataframe\">\n",
       "  <thead>\n",
       "    <tr style=\"text-align: right;\">\n",
       "      <th></th>\n",
       "      <th>City_Country</th>\n",
       "      <th>Airport</th>\n",
       "      <th>ICAO</th>\n",
       "    </tr>\n",
       "  </thead>\n",
       "  <tbody>\n",
       "    <tr>\n",
       "      <th>0</th>\n",
       "      <td>Belfast, GB</td>\n",
       "      <td>Belfast International Airport</td>\n",
       "      <td>EGAA</td>\n",
       "    </tr>\n",
       "    <tr>\n",
       "      <th>1</th>\n",
       "      <td>Birmingham, GB</td>\n",
       "      <td>Birmingham International Airport</td>\n",
       "      <td>EGBB</td>\n",
       "    </tr>\n",
       "    <tr>\n",
       "      <th>2</th>\n",
       "      <td>Bristol, GB</td>\n",
       "      <td>Bristol Airport</td>\n",
       "      <td>EGGD</td>\n",
       "    </tr>\n",
       "    <tr>\n",
       "      <th>3</th>\n",
       "      <td>Cardiff, GB</td>\n",
       "      <td>Cardiff International Airport</td>\n",
       "      <td>EGFF</td>\n",
       "    </tr>\n",
       "    <tr>\n",
       "      <th>4</th>\n",
       "      <td>Edinburgh, GB</td>\n",
       "      <td>Edinburgh Airport</td>\n",
       "      <td>EGPH</td>\n",
       "    </tr>\n",
       "  </tbody>\n",
       "</table>\n",
       "</div>"
      ],
      "text/plain": [
       "     City_Country                           Airport  ICAO\n",
       "0     Belfast, GB     Belfast International Airport  EGAA\n",
       "1  Birmingham, GB  Birmingham International Airport  EGBB\n",
       "2     Bristol, GB                   Bristol Airport  EGGD\n",
       "3     Cardiff, GB     Cardiff International Airport  EGFF\n",
       "4   Edinburgh, GB                 Edinburgh Airport  EGPH"
      ]
     },
     "execution_count": 29,
     "metadata": {},
     "output_type": "execute_result"
    }
   ],
   "source": [
    "cities_airports.head()"
   ]
  },
  {
   "cell_type": "code",
   "execution_count": 30,
   "metadata": {},
   "outputs": [
    {
     "data": {
      "text/html": [
       "<div>\n",
       "<style scoped>\n",
       "    .dataframe tbody tr th:only-of-type {\n",
       "        vertical-align: middle;\n",
       "    }\n",
       "\n",
       "    .dataframe tbody tr th {\n",
       "        vertical-align: top;\n",
       "    }\n",
       "\n",
       "    .dataframe thead th {\n",
       "        text-align: right;\n",
       "    }\n",
       "</style>\n",
       "<table border=\"1\" class=\"dataframe\">\n",
       "  <thead>\n",
       "    <tr style=\"text-align: right;\">\n",
       "      <th></th>\n",
       "      <th>Date_Time</th>\n",
       "      <th>Temperature</th>\n",
       "      <th>Wind</th>\n",
       "      <th>Prob_Percipitation</th>\n",
       "      <th>Rain</th>\n",
       "      <th>Snow</th>\n",
       "      <th>City_Country</th>\n",
       "    </tr>\n",
       "  </thead>\n",
       "  <tbody>\n",
       "    <tr>\n",
       "      <th>0</th>\n",
       "      <td>2022-08-24 18:00:00</td>\n",
       "      <td>28.01</td>\n",
       "      <td>2.66</td>\n",
       "      <td>0.00</td>\n",
       "      <td>0.00</td>\n",
       "      <td>0</td>\n",
       "      <td>London, GB</td>\n",
       "    </tr>\n",
       "    <tr>\n",
       "      <th>1</th>\n",
       "      <td>2022-08-24 21:00:00</td>\n",
       "      <td>25.13</td>\n",
       "      <td>1.08</td>\n",
       "      <td>0.00</td>\n",
       "      <td>0.00</td>\n",
       "      <td>0</td>\n",
       "      <td>London, GB</td>\n",
       "    </tr>\n",
       "    <tr>\n",
       "      <th>2</th>\n",
       "      <td>2022-08-25 00:00:00</td>\n",
       "      <td>21.95</td>\n",
       "      <td>1.33</td>\n",
       "      <td>0.04</td>\n",
       "      <td>0.00</td>\n",
       "      <td>0</td>\n",
       "      <td>London, GB</td>\n",
       "    </tr>\n",
       "    <tr>\n",
       "      <th>3</th>\n",
       "      <td>2022-08-25 03:00:00</td>\n",
       "      <td>20.21</td>\n",
       "      <td>1.12</td>\n",
       "      <td>0.67</td>\n",
       "      <td>1.22</td>\n",
       "      <td>0</td>\n",
       "      <td>London, GB</td>\n",
       "    </tr>\n",
       "    <tr>\n",
       "      <th>4</th>\n",
       "      <td>2022-08-25 06:00:00</td>\n",
       "      <td>19.22</td>\n",
       "      <td>2.05</td>\n",
       "      <td>0.92</td>\n",
       "      <td>2.72</td>\n",
       "      <td>0</td>\n",
       "      <td>London, GB</td>\n",
       "    </tr>\n",
       "  </tbody>\n",
       "</table>\n",
       "</div>"
      ],
      "text/plain": [
       "             Date_Time  Temperature  Wind  Prob_Percipitation  Rain  Snow  \\\n",
       "0  2022-08-24 18:00:00        28.01  2.66                0.00  0.00     0   \n",
       "1  2022-08-24 21:00:00        25.13  1.08                0.00  0.00     0   \n",
       "2  2022-08-25 00:00:00        21.95  1.33                0.04  0.00     0   \n",
       "3  2022-08-25 03:00:00        20.21  1.12                0.67  1.22     0   \n",
       "4  2022-08-25 06:00:00        19.22  2.05                0.92  2.72     0   \n",
       "\n",
       "  City_Country  \n",
       "0   London, GB  \n",
       "1   London, GB  \n",
       "2   London, GB  \n",
       "3   London, GB  \n",
       "4   London, GB  "
      ]
     },
     "execution_count": 30,
     "metadata": {},
     "output_type": "execute_result"
    }
   ],
   "source": [
    "weather.head()"
   ]
  },
  {
   "cell_type": "code",
   "execution_count": 31,
   "metadata": {},
   "outputs": [
    {
     "data": {
      "text/html": [
       "<div>\n",
       "<style scoped>\n",
       "    .dataframe tbody tr th:only-of-type {\n",
       "        vertical-align: middle;\n",
       "    }\n",
       "\n",
       "    .dataframe tbody tr th {\n",
       "        vertical-align: top;\n",
       "    }\n",
       "\n",
       "    .dataframe thead th {\n",
       "        text-align: right;\n",
       "    }\n",
       "</style>\n",
       "<table border=\"1\" class=\"dataframe\">\n",
       "  <thead>\n",
       "    <tr style=\"text-align: right;\">\n",
       "      <th></th>\n",
       "      <th>Departure_City</th>\n",
       "      <th>Arrival_Time</th>\n",
       "      <th>Terminal</th>\n",
       "      <th>Status</th>\n",
       "      <th>Flight</th>\n",
       "      <th>ICAO</th>\n",
       "    </tr>\n",
       "  </thead>\n",
       "  <tbody>\n",
       "    <tr>\n",
       "      <th>0</th>\n",
       "      <td>Glasgow</td>\n",
       "      <td>2022-08-24 15:05+01:00</td>\n",
       "      <td>5</td>\n",
       "      <td>Delayed</td>\n",
       "      <td>BA 1499</td>\n",
       "      <td>EGLL</td>\n",
       "    </tr>\n",
       "    <tr>\n",
       "      <th>1</th>\n",
       "      <td>Nice</td>\n",
       "      <td>2022-08-24 16:35+01:00</td>\n",
       "      <td>3</td>\n",
       "      <td>Expected</td>\n",
       "      <td>AF 7380</td>\n",
       "      <td>EGLL</td>\n",
       "    </tr>\n",
       "    <tr>\n",
       "      <th>2</th>\n",
       "      <td>Nápoli</td>\n",
       "      <td>2022-08-24 16:40+01:00</td>\n",
       "      <td>3</td>\n",
       "      <td>Expected</td>\n",
       "      <td>BA 2609</td>\n",
       "      <td>EGLL</td>\n",
       "    </tr>\n",
       "    <tr>\n",
       "      <th>3</th>\n",
       "      <td>Thessaloniki</td>\n",
       "      <td>2022-08-24 16:05+01:00</td>\n",
       "      <td>5</td>\n",
       "      <td>Delayed</td>\n",
       "      <td>BA 2643</td>\n",
       "      <td>EGLL</td>\n",
       "    </tr>\n",
       "    <tr>\n",
       "      <th>4</th>\n",
       "      <td>Preveza/Lefkada</td>\n",
       "      <td>2022-08-24 16:15+01:00</td>\n",
       "      <td>5</td>\n",
       "      <td>Delayed</td>\n",
       "      <td>BA 681</td>\n",
       "      <td>EGLL</td>\n",
       "    </tr>\n",
       "  </tbody>\n",
       "</table>\n",
       "</div>"
      ],
      "text/plain": [
       "    Departure_City            Arrival_Time Terminal    Status   Flight  ICAO\n",
       "0          Glasgow  2022-08-24 15:05+01:00        5   Delayed  BA 1499  EGLL\n",
       "1             Nice  2022-08-24 16:35+01:00        3  Expected  AF 7380  EGLL\n",
       "2           Nápoli  2022-08-24 16:40+01:00        3  Expected  BA 2609  EGLL\n",
       "3     Thessaloniki  2022-08-24 16:05+01:00        5   Delayed  BA 2643  EGLL\n",
       "4  Preveza/Lefkada  2022-08-24 16:15+01:00        5   Delayed   BA 681  EGLL"
      ]
     },
     "execution_count": 31,
     "metadata": {},
     "output_type": "execute_result"
    }
   ],
   "source": [
    "arrivals.head()"
   ]
  },
  {
   "cell_type": "markdown",
   "metadata": {},
   "source": [
    "**Connect Python to MySQL**"
   ]
  },
  {
   "cell_type": "code",
   "execution_count": 32,
   "metadata": {},
   "outputs": [],
   "source": [
    "schema=\"gans\"\n",
    "host=\"data-eng-project.crq4hzbbr6f3.eu-west-2.rds.amazonaws.com\"\n",
    "user=\"xxx\"\n",
    "password=\"xxx\"\n",
    "port=3306\n",
    "con = f'mysql+pymysql://{user}:{password}@{host}:{port}/{schema}'"
   ]
  },
  {
   "cell_type": "code",
   "execution_count": null,
   "metadata": {},
   "outputs": [],
   "source": [
    "cities.to_sql('cities', if_exists='append', con=con, index=False)\n",
    "cities_airports.to_sql('cities_airports', if_exists='append', con=con, index=False)\n",
    "weather.assign(Date_Time = lambda x: pd.to_datetime(x['Date_Time'])).to_sql('weather', if_exists='append', con=con, index=False)\n",
    "arrivals.to_sql('arrivals', if_exists='append', con=con, index=False)"
   ]
  }
 ],
 "metadata": {
  "kernelspec": {
   "display_name": "Python 3.9.7 ('base')",
   "language": "python",
   "name": "python3"
  },
  "language_info": {
   "codemirror_mode": {
    "name": "ipython",
    "version": 3
   },
   "file_extension": ".py",
   "mimetype": "text/x-python",
   "name": "python",
   "nbconvert_exporter": "python",
   "pygments_lexer": "ipython3",
   "version": "3.9.7"
  },
  "orig_nbformat": 4,
  "vscode": {
   "interpreter": {
    "hash": "385b4a73d404b7359a04f5ae2a80d4517c4e56360f3f42a52b0ddcf3eef1f3ef"
   }
  }
 },
 "nbformat": 4,
 "nbformat_minor": 2
}
